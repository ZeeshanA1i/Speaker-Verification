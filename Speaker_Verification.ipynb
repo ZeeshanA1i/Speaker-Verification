{
 "cells": [
  {
   "cell_type": "code",
   "execution_count": 1,
   "metadata": {
    "collapsed": false
   },
   "outputs": [
    {
     "name": "stdout",
     "output_type": "stream",
     "text": [
      "Populating the interactive namespace from numpy and matplotlib\n",
      "0.5.1\n",
      "1.3.0\n"
     ]
    }
   ],
   "source": [
    "%pylab inline\n",
    "import librosa \n",
    "from skimage import io\n",
    "from matplotlib import pyplot as plt\n",
    "import tensorflow as tf\n",
    "import matplotlib.pyplot as plt\n",
    "import librosa.display as display\n",
    "print librosa.__version__\n",
    "print tf.__version__\n",
    "import tools as t\n",
    "slim = tf.contrib.slim\n",
    "from scipy.io import loadmat\n",
    "import  numpy as np\n",
    "from sklearn.cross_validation import train_test_split\n",
    "import tensorflow.contrib.layers as lays"
   ]
  },
  {
   "cell_type": "markdown",
   "metadata": {},
   "source": [
    "# Generating mfcc's features from audio signals"
   ]
  },
  {
   "cell_type": "code",
   "execution_count": 2,
   "metadata": {
    "collapsed": false
   },
   "outputs": [],
   "source": [
    "def get_mat_data(path):\n",
    "    dic1={}\n",
    "    dirs=t.get_dirs(path, pattern=\"\")\n",
    "    for di in (sorted(dirs)[0:2]):\n",
    "        files=t.getfiles(di+'/', '.wav')\n",
    "        print di[-3::],',',\n",
    "        for f in files:\n",
    "            y,sr=librosa.load(f)\n",
    "            mfcc=librosa.feature.mfcc(y=y, sr=sr, n_mfcc=40).T # (Frames x 40)\n",
    "            label=f[len(f)-8:-6]\n",
    "            if label not in dic1:\n",
    "                dic1[label]=[]\n",
    "            dic1[label].append(mfcc)\n",
    "            \n",
    "    print \" Classes:\",len(dic1) # Some Sequence files are missing in data \n",
    "    \n",
    "    dic2={}    \n",
    "    for key in dic1:\n",
    "        dic2[key]=np.vstack((dic1[key][0],dic1[key][1]))#,dic1[key][2],dic1[key][3],dic1[key][4],dic1[key][5],dic1[key][6],dic1[key][7],dic1[key][8],dic1[key][9]))    \n",
    "    \n",
    "    X=np.zeros((20000,80,40,20),dtype=np.float32) # NHWC\n",
    "    Y=np.zeros((20000,1),dtype=np.int32)               # N\n",
    "    rindx=0\n",
    "    label=1\n",
    "    for key in dic2:\n",
    "        Frames=dic2[key][0:]\n",
    "        N=dic2[key].shape[0]/80 \n",
    "        nidx=0\n",
    "        if N/20.0!=0:\n",
    "            for i in range(N): \n",
    "                fmap=Frames[nidx:nidx+80,:]\n",
    "                image=np.zeros((80,40,20),dtype=np.float32)\n",
    "                for j in range(20):\n",
    "                    image[:,:,j]=fmap\n",
    "                X[rindx]=image\n",
    "                Y[rindx]= label\n",
    "                rindx+=1\n",
    "                nidx+=80  \n",
    "        label+=1\n",
    "        \n",
    "    X=X[0:rindx]\n",
    "    Y=Y[0:rindx]\n",
    "    \n",
    "    return X,Y"
   ]
  },
  {
   "cell_type": "code",
   "execution_count": 23,
   "metadata": {
    "collapsed": false
   },
   "outputs": [
    {
     "name": "stdout",
     "output_type": "stream",
     "text": [
      "S01 , S02 ,  Classes: 51\n",
      "(2527, 80, 40, 20)\n",
      "(2527, 1)\n"
     ]
    }
   ],
   "source": [
    "path = \"./Data/KING/NB\"\n",
    "X_King,Y_King = get_mat_data(path)\n",
    "\n",
    "print X_King.shape\n",
    "print Y_King.shape"
   ]
  },
  {
   "cell_type": "code",
   "execution_count": null,
   "metadata": {
    "collapsed": true
   },
   "outputs": [],
   "source": [
    "np.save('X_KingNB',X_King)\n",
    "np.save('Y_KingNB',Y_King)"
   ]
  },
  {
   "cell_type": "code",
   "execution_count": 5,
   "metadata": {
    "collapsed": false
   },
   "outputs": [
    {
     "name": "stdout",
     "output_type": "stream",
     "text": [
      "(12364, 80, 40, 20)\n",
      "(12364, 1)\n"
     ]
    }
   ],
   "source": [
    "X_King=np.load('./Speaker Verification/X_KingNB.npy')\n",
    "Y_King=np.load('./Speaker Verification/Y_KingNB.npy')\n",
    "print X_King.shape\n",
    "print Y_King.shape"
   ]
  },
  {
   "cell_type": "markdown",
   "metadata": {},
   "source": [
    "# Displaying Single mfcc features map"
   ]
  },
  {
   "cell_type": "code",
   "execution_count": 6,
   "metadata": {
    "collapsed": false
   },
   "outputs": [
    {
     "data": {
      "text/plain": [
       "<matplotlib.image.AxesImage at 0x7fb7da871e10>"
      ]
     },
     "execution_count": 6,
     "metadata": {},
     "output_type": "execute_result"
    },
    {
     "data": {
      "image/png": "[encoded data removed]",
      "text/plain": [
       "<matplotlib.figure.Figure at 0x7fb7d8e2e710>"
      ]
     },
     "metadata": {},
     "output_type": "display_data"
    }
   ],
   "source": [
    "plt.figure(figsize=(5,5))\n",
    "plt.imshow(X_King[50,:,:,0])"
   ]
  },
  {
   "cell_type": "code",
   "execution_count": 45,
   "metadata": {
    "collapsed": false
   },
   "outputs": [
    {
     "name": "stdout",
     "output_type": "stream",
     "text": [
      "(2021, 80, 40, 20) (2021, 1)\n",
      "(506, 80, 40, 20) (506, 1)\n"
     ]
    }
   ],
   "source": [
    "#mean = np.mean(X_King, axis=(0, 1, 2))\n",
    "#std  = np.std (X_King, axis=(0, 1, 2))\n",
    "#X_King[:, :, :, :] -= mean.reshape(1, 1, 1, 20)\n",
    "#X_King[:, :, :, :] /=  std.reshape(1, 1, 1, 1)\n",
    "X_train, X_test, y_train, y_test = train_test_split(X_King, Y_King,test_size=.20,random_state=1)\n",
    "print  X_train.shape, y_train.shape \n",
    "print  X_test.shape , y_test.shape"
   ]
  },
  {
   "cell_type": "code",
   "execution_count": 48,
   "metadata": {
    "collapsed": false
   },
   "outputs": [],
   "source": [
    "# Store Fully Cenected layers weight & bias\n",
    "weights = {\n",
    "    'w1': tf.get_variable(\"W111\", shape=[256,512],  initializer=tf.contrib.layers.xavier_initializer()),\n",
    "    'w2': tf.get_variable(\"W222\", shape=[512,1024], initializer=tf.contrib.layers.xavier_initializer()), \n",
    "    'outw': tf.get_variable(\"W333\", shape=[1024,51],initializer=tf.contrib.layers.xavier_initializer())\n",
    "           }\n",
    "biases = {\n",
    "    'b1': tf.Variable(tf.random_normal([512])),\n",
    "    'b2': tf.Variable(tf.random_normal([1024])),\n",
    "    'outb': tf.Variable(tf.random_normal([51]))\n",
    "          }"
   ]
  },
  {
   "cell_type": "code",
   "execution_count": 49,
   "metadata": {
    "collapsed": false
   },
   "outputs": [],
   "source": [
    "def features_averages(images,true_labels):\n",
    "    features_averages=[]\n",
    "    feature_per_speaker={}\n",
    "    for i in range(images.shape[0]):\n",
    "        label=true_labels[i]\n",
    "        if label not in  feature_per_speaker:\n",
    "            feature_per_speaker[label]=[]\n",
    "        feature_per_speaker[label].append(images)\n",
    "    for key in feature_per_speaker:\n",
    "        avg=np.sum(feature_per_speaker[key],axis=1)/len(feature_per_speaker[key])\n",
    "        features_averages.append(avg)\n",
    "    return np.array(features_averages)"
   ]
  },
  {
   "cell_type": "markdown",
   "metadata": {},
   "source": [
    "# Cosine Similarity"
   ]
  },
  {
   "cell_type": "code",
   "execution_count": 50,
   "metadata": {
    "collapsed": false
   },
   "outputs": [],
   "source": [
    "def cosine_similarity(test,features_avg):\n",
    "    similarity=[]\n",
    "    for i in range(test.shape[0]):\n",
    "        for j in range(features_avg.shape[0]):\n",
    "                sim=np.cos(test[i],features_avg[j])\n",
    "                similarity.append(sim)\n",
    "    return np.array(similarity)                    "
   ]
  },
  {
   "cell_type": "markdown",
   "metadata": {},
   "source": [
    "# Model Layers"
   ]
  },
  {
   "cell_type": "code",
   "execution_count": 33,
   "metadata": {
    "collapsed": false
   },
   "outputs": [],
   "source": [
    "global is_training\n",
    "is_training=False\n",
    "def Model(inputs): # (NxHxWx1)\n",
    "    conv1=lays.conv2d(inputs,16,3,stride=1,padding='SAME',weights_initializer=tf.contrib.layers.xavier_initializer(),activation_fn=None)\n",
    "    bnorm=lays.batch_norm(conv1,is_training=is_training,activation_fn=None)\n",
    "    dropout=lays.dropout(bnorm,keep_prob=0.5,is_training=is_training)\n",
    "    relu =tf.nn.relu(dropout)\n",
    "    maxp1=lays.max_pool2d(relu,2,stride=2,padding='SAME')\n",
    "\n",
    "    conv2=lays.conv2d(maxp1,32,3, stride=1,padding='SAME',weights_initializer=tf.contrib.layers.xavier_initializer(),activation_fn=None)\n",
    "    bnorm=lays.batch_norm(conv2,is_training=is_training,activation_fn=tf.nn.relu)\n",
    "    conv3=lays.conv2d(bnorm,32,3, stride=1,padding='SAME',weights_initializer=tf.contrib.layers.xavier_initializer(),activation_fn=None)\n",
    "    bnorm=lays.batch_norm(conv3,is_training=is_training,activation_fn=tf.nn.relu)\n",
    "    maxp2=lays.max_pool2d(bnorm,2,stride=2,padding='SAME')\n",
    "\n",
    "    conv4=lays.conv2d(maxp2,64,3, stride=1,padding='SAME',weights_initializer=tf.contrib.layers.xavier_initializer(),activation_fn=None)\n",
    "    bnorm=lays.batch_norm(conv4,is_training=is_training,activation_fn=tf.nn.relu)\n",
    "    conv5=lays.conv2d(bnorm,64,3, stride=1,padding='SAME',weights_initializer=tf.contrib.layers.xavier_initializer(),activation_fn=None)\n",
    "    bnorm=lays.batch_norm(conv5,is_training=is_training,activation_fn=tf.nn.relu)\n",
    "    maxp3=lays.max_pool2d(bnorm,2,stride=2,padding='SAME')\n",
    "    \n",
    "    conv6=lays.conv2d(maxp3,128,3, stride=1,padding='SAME',weights_initializer=tf.contrib.layers.xavier_initializer(),activation_fn=None)\n",
    "    bnorm=lays.batch_norm(conv6,is_training=is_training,activation_fn=tf.nn.relu)\n",
    "    conv7=lays.conv2d(bnorm,128,3, stride=1,padding='SAME',weights_initializer=tf.contrib.layers.xavier_initializer(),activation_fn=None)\n",
    "    bnorm=lays.batch_norm(conv7,is_training=is_training,activation_fn=tf.nn.relu)\n",
    "    maxp4=lays.max_pool2d(bnorm,2,stride=2,padding='SAME')\n",
    "   \n",
    "    conv8=lays.conv2d(maxp4,256,[5,3],stride=1,padding='Valid',weights_initializer=tf.contrib.layers.xavier_initializer(),activation_fn=tf.nn.relu)\n",
    "    \n",
    "    conv=tf.reshape(conv8,[-1,256]) # 1x256 features\n",
    "    \n",
    "    features=conv\n",
    "    \n",
    "    fc1 = tf.nn.relu(tf.nn.bias_add(tf.matmul(conv, weights['w1']), biases['b1'])) # (10x256,256x512)+512   = 10x512\n",
    "    fc2 = tf.nn.relu(tf.nn.bias_add(tf.matmul(fc1, weights['w2']), biases['b2'])) # (10x512,512x1024)+1024 = 10x1024\n",
    "    fc3 = tf.nn.bias_add(tf.matmul(fc2, weights['outw']), biases['outb'])         # (10x1024,1024x51)+51   = 10x51\n",
    "    \n",
    "    logits=fc3\n",
    "    \n",
    "    return logits,features    # 10x51"
   ]
  },
  {
   "cell_type": "code",
   "execution_count": 35,
   "metadata": {
    "collapsed": false
   },
   "outputs": [
    {
     "name": "stdout",
     "output_type": "stream",
     "text": [
      "total_batch :  176\n"
     ]
    }
   ],
   "source": [
    "batch_size = 10\n",
    "training_epochs=10\n",
    "total_batch = int(X_train.shape[0]/batch_size)\n",
    "print 'total_batch : ',total_batch"
   ]
  },
  {
   "cell_type": "code",
   "execution_count": 39,
   "metadata": {
    "collapsed": false
   },
   "outputs": [],
   "source": [
    "X = tf.placeholder(\"float32\", [None, 80,40,20])\n",
    "Y = tf.placeholder(\"int32\", [None, None])\n",
    "label_onehot=tf.one_hot(tf.squeeze(Y), depth=51, axis=-1)"
   ]
  },
  {
   "cell_type": "code",
   "execution_count": 40,
   "metadata": {
    "collapsed": false
   },
   "outputs": [],
   "source": [
    "logits,features=Model(X)\n",
    "loss=tf.reduce_mean( tf.nn.softmax_cross_entropy_with_logits(logits=logits, labels=label_onehot))\n",
    "train_op=tf.train.AdamOptimizer().minimize(loss)\n",
    "correct_pred = tf.equal(tf.argmax(logits, 1), tf.argmax(label_onehot, 1))\n",
    "accuracy = tf.reduce_mean(tf.cast(correct_pred, tf.float32))"
   ]
  },
  {
   "cell_type": "code",
   "execution_count": 41,
   "metadata": {
    "collapsed": false
   },
   "outputs": [
    {
     "name": "stdout",
     "output_type": "stream",
     "text": [
      "iteration: 1  loss: 4.64572  acc: 0.1\n",
      "iteration: 101  loss: 4.47729  acc: 0.0\n",
      "epoch: 1  loss: 3.70977\n",
      "iteration: 1  loss: 3.16617  acc: 0.0\n",
      "iteration: 101  loss: 3.54044  acc: 0.0\n",
      "epoch: 2  loss: 3.38694\n",
      "iteration: 1  loss: 2.85841  acc: 0.0\n",
      "iteration: 101  loss: 3.31466  acc: 0.0\n",
      "epoch: 3  loss: 2.91554\n",
      "iteration: 1  loss: 2.50778  acc: 0.1\n",
      "iteration: 101  loss: 3.31247  acc: 0.0\n",
      "epoch: 4  loss: 2.85203\n",
      "iteration: 1  loss: 2.551  acc: 0.2\n",
      "iteration: 101  loss: 3.22281  acc: 0.0\n",
      "epoch: 5  loss: 3.06547\n",
      "iteration: 1  loss: 2.62742  acc: 0.0\n",
      "iteration: 101  loss: 3.76955  acc: 0.0\n",
      "epoch: 6  loss: 2.9745\n",
      "iteration: 1  loss: 2.40831  acc: 0.1\n",
      "iteration: 101  loss: 3.11113  acc: 0.1\n",
      "epoch: 7  loss: 7.76651\n",
      "iteration: 1  loss: 8.53561  acc: 0.1\n",
      "iteration: 101  loss: 3.37798  acc: 0.0\n",
      "epoch: 8  loss: 2.93172\n",
      "iteration: 1  loss: 2.45087  acc: 0.1\n",
      "iteration: 101  loss: 3.58573  acc: 0.1\n",
      "epoch: 9  loss: 12.559\n",
      "iteration: 1  loss: 14.5701  acc: 0.0\n",
      "iteration: 101  loss: 3.66508  acc: 0.0\n",
      "epoch: 10  loss: 4.14309\n",
      "Optimization Finished!\n",
      "('test_loss : ', 5.0123305)\n",
      "('test_accu : ', 0.018445322)\n",
      "Expected Loss: 3.93182563272\n"
     ]
    }
   ],
   "source": [
    "init = tf.global_variables_initializer()\n",
    "with tf.Session() as sess:\n",
    "    sess.run(init)\n",
    "    cf=[]\n",
    "    for epoch in range(training_epochs):\n",
    "        i=0\n",
    "        for j in range(total_batch-1):\n",
    "            batch_x, batch_y =X_train[i:i+batch_size],y_train[i:i+batch_size]\n",
    "            \n",
    "            _,loss_,acc_=sess.run([train_op,loss,accuracy],feed_dict={ X:batch_x, Y:batch_y })\n",
    "            \n",
    "            cf.append(loss_)\n",
    "            acc=sess.run(accuracy,feed_dict={ X:X_test[i:i+batch_size], Y:y_test[i:i+batch_size] })\n",
    "            if j%100==0 or j==0:\n",
    "                print 'iteration:',j+1,' loss:',loss_, ' validation-acc:',acc\n",
    "            i=i+batch_size\n",
    "        print 'epoch:',epoch+1,' loss:',loss_\n",
    "         \n",
    "    print 'Optimization Finished!'\n",
    "    \n",
    "    loss_,accu_=sess.run([loss,accuracy],feed_dict={ X:X_test, Y:y_test })\n",
    "    \n",
    "    print (\"test_loss : \", loss_)\n",
    "    print (\"test_accu : \", accu_)\n",
    "print 'Expected Loss:',-np.log(1/51.0)    "
   ]
  },
  {
   "cell_type": "code",
   "execution_count": 42,
   "metadata": {
    "collapsed": false
   },
   "outputs": [
    {
     "data": {
      "text/plain": [
       "<matplotlib.text.Text at 0x7f38851d4290>"
      ]
     },
     "execution_count": 42,
     "metadata": {},
     "output_type": "execute_result"
    },
    {
     "data": {
      "image/png": "[encoded data removed]",
      "text/plain": [
       "<matplotlib.figure.Figure at 0x7f38c2fe2bd0>"
      ]
     },
     "metadata": {},
     "output_type": "display_data"
    }
   ],
   "source": [
    "plt.plot(cf,'-')\n",
    "plt.title('Adam Optimizer Convergence')\n",
    "plt.xlabel('Iterations')\n",
    "plt.ylabel('Loss')"
   ]
  },
  {
   "cell_type": "code",
   "execution_count": null,
   "metadata": {
    "collapsed": true
   },
   "outputs": [],
   "source": []
  }
 ],
 "metadata": {
  "kernelspec": {
   "display_name": "Python [Root]",
   "language": "python",
   "name": "Python [Root]"
  },
  "language_info": {
   "codemirror_mode": {
    "name": "ipython",
    "version": 2
   },
   "file_extension": ".py",
   "mimetype": "text/x-python",
   "name": "python",
   "nbconvert_exporter": "python",
   "pygments_lexer": "ipython2",
   "version": "2.7.11"
  }
 },
 "nbformat": 4,
 "nbformat_minor": 0
}
