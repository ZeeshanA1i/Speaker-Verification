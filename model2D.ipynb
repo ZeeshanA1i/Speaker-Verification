{
 "cells": [
  {
   "cell_type": "code",
   "execution_count": 22,
   "metadata": {},
   "outputs": [],
   "source": [
    "import numpy as np\n",
    "import pandas as pd\n",
    "\n",
    "import matplotlib.pyplot as plt\n",
    "\n",
    "from keras.models import Sequential\n",
    "from keras.models import model_from_json\n",
    "\n",
    "from keras.layers import Conv2D\n",
    "from keras.layers import MaxPool2D\n",
    "from keras.layers import Dense\n",
    "from keras.layers import Dropout\n",
    "from keras.layers import Activation\n",
    "from keras.layers import Flatten\n",
    "\n",
    "from keras.utils import np_utils\n",
    "from keras.utils.vis_utils import plot_model"
   ]
  },
  {
   "cell_type": "code",
   "execution_count": 3,
   "metadata": {},
   "outputs": [
    {
     "data": {
      "text/plain": [
       "(12364, 80, 40, 20)"
      ]
     },
     "execution_count": 3,
     "metadata": {},
     "output_type": "execute_result"
    }
   ],
   "source": [
    "X = np.load(\"data/X_KingNB.npy\")\n",
    "X.shape"
   ]
  },
  {
   "cell_type": "code",
   "execution_count": 4,
   "metadata": {},
   "outputs": [
    {
     "data": {
      "text/plain": [
       "(12364, 1)"
      ]
     },
     "execution_count": 4,
     "metadata": {},
     "output_type": "execute_result"
    }
   ],
   "source": [
    "Y = np.load(\"data/Y_KingNB.npy\")\n",
    "Y.shape"
   ]
  },
  {
   "cell_type": "code",
   "execution_count": 5,
   "metadata": {},
   "outputs": [
    {
     "data": {
      "text/plain": [
       "(51,)"
      ]
     },
     "execution_count": 5,
     "metadata": {},
     "output_type": "execute_result"
    }
   ],
   "source": [
    "np.unique(Y).shape"
   ]
  },
  {
   "cell_type": "code",
   "execution_count": 6,
   "metadata": {},
   "outputs": [
    {
     "data": {
      "text/plain": [
       "array([ 1,  2,  3,  4,  5,  6,  7,  8,  9, 10, 11, 12, 13, 14, 15, 16, 17,\n",
       "       18, 19, 20, 21, 22, 23, 24, 25, 26, 27, 28, 29, 30, 31, 32, 33, 34,\n",
       "       35, 36, 37, 38, 39, 40, 41, 42, 43, 44, 45, 46, 47, 48, 49, 50, 51], dtype=int32)"
      ]
     },
     "execution_count": 6,
     "metadata": {},
     "output_type": "execute_result"
    }
   ],
   "source": [
    "np.unique(Y)"
   ]
  },
  {
   "cell_type": "code",
   "execution_count": 7,
   "metadata": {},
   "outputs": [
    {
     "data": {
      "text/plain": [
       "array([ 0,  1,  2,  3,  4,  5,  6,  7,  8,  9, 10, 11, 12, 13, 14, 15, 16,\n",
       "       17, 18, 19, 20, 21, 22, 23, 24, 25, 26, 27, 28, 29, 30, 31, 32, 33,\n",
       "       34, 35, 36, 37, 38, 39, 40, 41, 42, 43, 45, 49], dtype=int32)"
      ]
     },
     "execution_count": 7,
     "metadata": {},
     "output_type": "execute_result"
    }
   ],
   "source": [
    "for idx in range(Y.shape[0]):\n",
    "    if Y[idx]>30 and Y[idx]<36:\n",
    "        Y[idx] -= 1\n",
    "Y[Y==37]=35\n",
    "Y[Y==38]=36\n",
    "Y[Y==40]=37\n",
    "Y[Y==42]=38\n",
    "Y[Y==45]=39\n",
    "Y[Y==47]=40\n",
    "Y[Y==48]=41\n",
    "Y[Y==49]=42\n",
    "Y[Y==51]=43\n",
    "Y[Y==52]=44\n",
    "Y[Y==53]=45\n",
    "Y[Y==55]=46\n",
    "Y[Y==56]=47\n",
    "Y[Y==57]=48\n",
    "Y[Y==58]=49\n",
    "Y[Y==59]=50\n",
    "Y[Y==60]=51\n",
    "Y -= 1\n",
    "np.unique(Y)"
   ]
  },
  {
   "cell_type": "code",
   "execution_count": 8,
   "metadata": {
    "collapsed": true
   },
   "outputs": [],
   "source": [
    "Y = np_utils.to_categorical(Y, num_classes=51)"
   ]
  },
  {
   "cell_type": "code",
   "execution_count": 9,
   "metadata": {
    "collapsed": true
   },
   "outputs": [],
   "source": [
    "model = Sequential()\n",
    "\n",
    "model.add(Conv2D(name=\"conv1-1\", activation=\"relu\",\n",
    "                 input_shape=(80, 40, 20), padding=\"same\",\n",
    "                 strides=(1, 1), filters=8, kernel_size=(3, 3)))\n",
    "model.add(Conv2D(name=\"conv1-2\", activation=\"relu\", padding=\"same\",\n",
    "                 strides=(2, 2), filters=8, kernel_size=(3, 3)))\n",
    "model.add(MaxPool2D(name=\"pool-1\", pool_size=(1, 1), strides=(1, 1)))\n",
    "\n",
    "model.add(Conv2D(name=\"conv2-1\", activation=\"relu\", padding=\"same\",\n",
    "                 strides=(1, 1), filters=16, kernel_size=(3, 3)))\n",
    "model.add(Conv2D(name=\"conv2-2\", activation=\"relu\", padding=\"same\",\n",
    "                 strides=(2, 2), filters=16, kernel_size=(3, 3)))\n",
    "model.add(MaxPool2D(name=\"pool-2\", pool_size=(1, 1), strides=(1, 1)))\n",
    "\n",
    "model.add(Conv2D(name=\"conv3-1\", activation=\"relu\", padding=\"same\",\n",
    "                 strides=(1, 1), filters=32, kernel_size=(3, 3)))\n",
    "model.add(Conv2D(name=\"conv3-2\", activation=\"relu\", padding=\"same\",\n",
    "                 strides=(2, 2), filters=32, kernel_size=(3, 3)))\n",
    "\n",
    "model.add(Conv2D(name=\"conv4-1\", activation=\"relu\", padding=\"same\",\n",
    "                 strides=(1, 1), filters=64, kernel_size=(3, 3)))\n",
    "model.add(Conv2D(name=\"conv4-2\", activation=\"relu\", padding=\"same\",\n",
    "                 strides=(2, 2), filters=64, kernel_size=(3, 3)))\n",
    "\n",
    "model.add(Flatten())\n",
    "\n",
    "model.add(Dense(51, name=\"fc6\"))\n",
    "model.add(Dropout(.5))\n",
    "model.add(Activation('softmax'))"
   ]
  },
  {
   "cell_type": "code",
   "execution_count": 10,
   "metadata": {},
   "outputs": [
    {
     "name": "stdout",
     "output_type": "stream",
     "text": [
      "_________________________________________________________________\n",
      "Layer (type)                 Output Shape              Param #   \n",
      "=================================================================\n",
      "conv1-1 (Conv2D)             (None, 80, 40, 8)         1448      \n",
      "_________________________________________________________________\n",
      "conv1-2 (Conv2D)             (None, 40, 20, 8)         584       \n",
      "_________________________________________________________________\n",
      "pool-1 (MaxPooling2D)        (None, 40, 20, 8)         0         \n",
      "_________________________________________________________________\n",
      "conv2-1 (Conv2D)             (None, 40, 20, 16)        1168      \n",
      "_________________________________________________________________\n",
      "conv2-2 (Conv2D)             (None, 20, 10, 16)        2320      \n",
      "_________________________________________________________________\n",
      "pool-2 (MaxPooling2D)        (None, 20, 10, 16)        0         \n",
      "_________________________________________________________________\n",
      "conv3-1 (Conv2D)             (None, 20, 10, 32)        4640      \n",
      "_________________________________________________________________\n",
      "conv3-2 (Conv2D)             (None, 10, 5, 32)         9248      \n",
      "_________________________________________________________________\n",
      "conv4-1 (Conv2D)             (None, 10, 5, 64)         18496     \n",
      "_________________________________________________________________\n",
      "conv4-2 (Conv2D)             (None, 5, 3, 64)          36928     \n",
      "_________________________________________________________________\n",
      "flatten_1 (Flatten)          (None, 960)               0         \n",
      "_________________________________________________________________\n",
      "fc6 (Dense)                  (None, 51)                49011     \n",
      "_________________________________________________________________\n",
      "dropout_1 (Dropout)          (None, 51)                0         \n",
      "_________________________________________________________________\n",
      "activation_1 (Activation)    (None, 51)                0         \n",
      "=================================================================\n",
      "Total params: 123,843\n",
      "Trainable params: 123,843\n",
      "Non-trainable params: 0\n",
      "_________________________________________________________________\n"
     ]
    }
   ],
   "source": [
    "model.summary()"
   ]
  },
  {
   "cell_type": "code",
   "execution_count": 11,
   "metadata": {
    "collapsed": true
   },
   "outputs": [],
   "source": [
    "model.compile(optimizer='rmsprop',\n",
    "              loss='categorical_crossentropy',\n",
    "              metrics=['accuracy'])"
   ]
  },
  {
   "cell_type": "code",
   "execution_count": 12,
   "metadata": {},
   "outputs": [
    {
     "name": "stdout",
     "output_type": "stream",
     "text": [
      "Train on 8283 samples, validate on 4081 samples\n",
      "Epoch 1/20\n",
      "8283/8283 [==============================] - 45s 5ms/step - loss: 3.6305 - acc: 0.0625 - val_loss: 5.7766 - val_acc: 0.0000e+00\n",
      "Epoch 2/20\n",
      "8283/8283 [==============================] - 44s 5ms/step - loss: 3.3834 - acc: 0.1138 - val_loss: 6.7669 - val_acc: 0.0000e+00\n",
      "Epoch 3/20\n",
      "8283/8283 [==============================] - 44s 5ms/step - loss: 3.2532 - acc: 0.1613 - val_loss: 8.9894 - val_acc: 0.0000e+00\n",
      "Epoch 4/20\n",
      "8283/8283 [==============================] - 44s 5ms/step - loss: 3.0859 - acc: 0.2131 - val_loss: 9.0106 - val_acc: 0.0000e+00\n",
      "Epoch 5/20\n",
      "8283/8283 [==============================] - 44s 5ms/step - loss: 2.9817 - acc: 0.2417 - val_loss: 10.5653 - val_acc: 0.0000e+00\n",
      "Epoch 6/20\n",
      "8283/8283 [==============================] - 44s 5ms/step - loss: 2.9180 - acc: 0.2620 - val_loss: 12.5891 - val_acc: 0.0000e+00\n",
      "Epoch 7/20\n",
      "8283/8283 [==============================] - 44s 5ms/step - loss: 2.8126 - acc: 0.2926 - val_loss: 12.3150 - val_acc: 0.0000e+00\n",
      "Epoch 8/20\n",
      "8283/8283 [==============================] - 44s 5ms/step - loss: 2.7546 - acc: 0.3030 - val_loss: 12.6188 - val_acc: 0.0000e+00\n",
      "Epoch 9/20\n",
      "8283/8283 [==============================] - 44s 5ms/step - loss: 2.6668 - acc: 0.3269 - val_loss: 14.6264 - val_acc: 0.0000e+00\n",
      "Epoch 10/20\n",
      "8283/8283 [==============================] - 44s 5ms/step - loss: 2.5916 - acc: 0.3460 - val_loss: 13.7646 - val_acc: 0.0000e+00\n",
      "Epoch 11/20\n",
      "8283/8283 [==============================] - 44s 5ms/step - loss: 2.5535 - acc: 0.3589 - val_loss: 15.4522 - val_acc: 0.0000e+00\n",
      "Epoch 12/20\n",
      "8283/8283 [==============================] - 44s 5ms/step - loss: 2.5188 - acc: 0.3681 - val_loss: 13.8577 - val_acc: 7.3511e-04\n",
      "Epoch 13/20\n",
      "8283/8283 [==============================] - 44s 5ms/step - loss: 2.4659 - acc: 0.3791 - val_loss: 13.4656 - val_acc: 4.9008e-04\n",
      "Epoch 14/20\n",
      "8283/8283 [==============================] - 45s 5ms/step - loss: 2.4000 - acc: 0.3993 - val_loss: 15.0882 - val_acc: 4.9008e-04\n",
      "Epoch 15/20\n",
      "8283/8283 [==============================] - 44s 5ms/step - loss: 2.3728 - acc: 0.3999 - val_loss: 14.9480 - val_acc: 2.4504e-04\n",
      "Epoch 16/20\n",
      "8283/8283 [==============================] - 44s 5ms/step - loss: 2.2905 - acc: 0.4199 - val_loss: 15.4805 - val_acc: 0.0000e+00\n",
      "Epoch 17/20\n",
      "8283/8283 [==============================] - 44s 5ms/step - loss: 2.2489 - acc: 0.4286 - val_loss: 15.3104 - val_acc: 4.9008e-04\n",
      "Epoch 18/20\n",
      "8283/8283 [==============================] - 44s 5ms/step - loss: 2.2179 - acc: 0.4318 - val_loss: 15.5690 - val_acc: 7.3511e-04\n",
      "Epoch 19/20\n",
      "8283/8283 [==============================] - 44s 5ms/step - loss: 2.2010 - acc: 0.4344 - val_loss: 15.6428 - val_acc: 2.4504e-04\n",
      "Epoch 20/20\n",
      "8283/8283 [==============================] - 44s 5ms/step - loss: 2.1469 - acc: 0.4462 - val_loss: 15.5848 - val_acc: 0.0000e+00\n"
     ]
    }
   ],
   "source": [
    "# Train the model, iterating on the data in batches of 32 samples\n",
    "history = model.fit(X, Y, validation_split=0.33, epochs=20, batch_size=200)"
   ]
  },
  {
   "cell_type": "code",
   "execution_count": 13,
   "metadata": {},
   "outputs": [
    {
     "name": "stdout",
     "output_type": "stream",
     "text": [
      "['acc', 'loss', 'val_acc', 'val_loss']\n"
     ]
    }
   ],
   "source": [
    "# list all data in history\n",
    "print(history.history.keys())"
   ]
  },
  {
   "cell_type": "code",
   "execution_count": 14,
   "metadata": {},
   "outputs": [
    {
     "data": {
      "image/png": "[encoded data removed]",
      "text/plain": [
       "<matplotlib.figure.Figure at 0x7fcab44317d0>"
      ]
     },
     "metadata": {},
     "output_type": "display_data"
    }
   ],
   "source": [
    "# summarize history for accuracy\n",
    "plt.plot(history.history['acc'])\n",
    "plt.plot(history.history['val_acc'])\n",
    "plt.title('model accuracy')\n",
    "plt.ylabel('accuracy')\n",
    "plt.xlabel('epoch')\n",
    "plt.legend(['train', 'val'], loc='upper left')\n",
    "plt.show()"
   ]
  },
  {
   "cell_type": "code",
   "execution_count": 16,
   "metadata": {},
   "outputs": [
    {
     "data": {
      "image/png": "[encoded data removed]",
      "text/plain": [
       "<matplotlib.figure.Figure at 0x7fcb77938350>"
      ]
     },
     "metadata": {},
     "output_type": "display_data"
    }
   ],
   "source": [
    "# summarize history for loss\n",
    "plt.plot(history.history['loss'])\n",
    "plt.plot(history.history['val_loss'])\n",
    "plt.title('model loss')\n",
    "plt.ylabel('loss')\n",
    "plt.xlabel('epoch')\n",
    "plt.legend(['train', 'val'], loc='upper left')\n",
    "plt.show()"
   ]
  },
  {
   "cell_type": "code",
   "execution_count": 19,
   "metadata": {},
   "outputs": [
    {
     "name": "stdout",
     "output_type": "stream",
     "text": [
      "Saved model to disk\n"
     ]
    }
   ],
   "source": [
    "# serialize model to JSON\n",
    "model_json = model.to_json()\n",
    "with open(\"model.json\", \"w\") as json_file:\n",
    "    json_file.write(model_json)\n",
    "# serialize weights to HDF5\n",
    "model.save_weights(\"model2D.h5\")\n",
    "print(\"Saved model to disk\")"
   ]
  },
  {
   "cell_type": "code",
   "execution_count": 24,
   "metadata": {},
   "outputs": [
    {
     "name": "stdout",
     "output_type": "stream",
     "text": [
      "Loaded model from disk\n",
      "acc: 51.74%\n"
     ]
    }
   ],
   "source": [
    " \n",
    "# later...\n",
    " \n",
    "# load json and create model\n",
    "json_file = open('model.json', 'r')\n",
    "loaded_model_json = json_file.read()\n",
    "json_file.close()\n",
    "loaded_model = model_from_json(loaded_model_json)\n",
    "# load weights into new model\n",
    "loaded_model.load_weights(\"model2D.h5\")\n",
    "print(\"Loaded model from disk\")\n",
    " \n",
    "# evaluate loaded model on test data\n",
    "loaded_model.compile(optimizer='rmsprop',\n",
    "              loss='categorical_crossentropy',\n",
    "              metrics=['accuracy'])\n",
    "score = loaded_model.evaluate(X, Y, verbose=0)\n",
    "print(\"%s: %.2f%%\" % (loaded_model.metrics_names[1], score[1]*100))"
   ]
  },
  {
   "cell_type": "code",
   "execution_count": null,
   "metadata": {
    "collapsed": true
   },
   "outputs": [],
   "source": []
  }
 ],
 "metadata": {
  "anaconda-cloud": {},
  "kernelspec": {
   "display_name": "Python [conda root]",
   "language": "python",
   "name": "conda-root-py"
  },
  "language_info": {
   "codemirror_mode": {
    "name": "ipython",
    "version": 2
   },
   "file_extension": ".py",
   "mimetype": "text/x-python",
   "name": "python",
   "nbconvert_exporter": "python",
   "pygments_lexer": "ipython2",
   "version": "2.7.12"
  }
 },
 "nbformat": 4,
 "nbformat_minor": 1
}
